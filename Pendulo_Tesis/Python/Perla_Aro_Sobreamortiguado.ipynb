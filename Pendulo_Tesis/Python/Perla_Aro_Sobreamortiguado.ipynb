{
 "cells": [
  {
   "cell_type": "code",
   "execution_count": 1,
   "metadata": {},
   "outputs": [],
   "source": [
    "from pylab import *\n",
    "import matplotlib.pyplot as plt\n",
    "\n"
   ]
  },
  {
   "cell_type": "code",
   "execution_count": 5,
   "metadata": {},
   "outputs": [
    {
     "data": {
      "image/png": "[encoded data removed]",
      "text/plain": [
       "<Figure size 640x400 with 1 Axes>"
      ]
     },
     "metadata": {
      "needs_background": "light"
     },
     "output_type": "display_data"
    }
   ],
   "source": [
    "import numpy as np\n",
    "\n",
    "fig, ax = plt.subplots(figsize=(8,5), dpi=80)\n",
    "# setting the axes at the centre:\n",
    "# making the top and right spine invisible:\n",
    "ax.spines['right'].set_color('none')\n",
    "ax.spines['top'].set_color('none')\n",
    "ax.spines['left'].set_position(('data',0.))\n",
    "ax.spines['bottom'].set_position(('axes',0.))\n",
    "\n",
    "def xeq1(gamma):\n",
    "    return np.arccos(1/gamma)\n",
    "\n",
    "xlim = 7\n",
    "domain = np.linspace(1, xlim, 100)\n",
    "\n",
    "plot(domain, xeq1(domain), 'k-', linewidth = 3)\n",
    "plot(domain, -xeq1(domain), 'k-', linewidth = 3)\n",
    "\n",
    "#plot([1], [0], 'ko')\n",
    "plot([0,1],[0,0], \"k-\", linewidth = 3)\n",
    "plot([1,xlim],[0,0], \"k--\", linewidth = 3)\n",
    "plot([0,xlim],[np.pi/2,np.pi/2], \"k--\", linewidth = 1)\n",
    "plot([0,xlim],[-np.pi/2,-np.pi/2], \"k--\", linewidth = 1)\n",
    "axis([0, xlim, -4, 4])\n",
    "\n",
    "ax.xaxis.set_ticks_position('bottom')\n",
    "plt.xticks([1],[1])\n",
    "plt.yticks([np.pi, np.pi/2, 0, -np.pi/2, -np.pi ],[ r'$\\pi$',  r'$\\frac{\\pi}{2}$',  r'$0$', r'-$\\frac{\\pi}{2}$',r'$\\pi$'])\n",
    "\n",
    "\n",
    "xlabel('$\\gamma$', fontsize = 14, horizontalalignment='right', x=1.0)\n",
    "ylabel('$\\phi^*$', fontsize = 14, horizontalalignment='right', y=1.0)\n",
    "\n",
    "for label in ax.get_xticklabels() + ax.get_yticklabels():\n",
    "    label.set_fontsize(13)\n",
    "\n",
    "plt.savefig(\"DiagramaBifurcacion_PerlaAro.png\",dpi=73)\n",
    "show()"
   ]
  },
  {
   "cell_type": "code",
   "execution_count": 19,
   "metadata": {},
   "outputs": [
    {
     "data": {
      "image/png": "[encoded data removed]",
      "text/plain": [
       "<Figure size 560x400 with 1 Axes>"
      ]
     },
     "metadata": {
      "needs_background": "light"
     },
     "output_type": "display_data"
    }
   ],
   "source": [
    "fig, ax = plt.subplots(figsize=(7,5), dpi=80)\n",
    "\n",
    "ax.spines['right'].set_color('none')\n",
    "ax.spines['top'].set_color('none')\n",
    "ax.xaxis.set_ticks_position('bottom')\n",
    "ax.spines['bottom'].set_position(('data',0))\n",
    "ax.yaxis.set_ticks_position('left')\n",
    "ax.spines['left'].set_position(('data',0))\n",
    "\n",
    "\n",
    "plt.xticks([-np.pi,-np.pi/2, np.pi/2, np.pi],\n",
    "       [r'$-\\pi$', r'$-\\pi/2$', r'$\\pi/2$', r'$\\pi$'])\n",
    "plt.yticks([ ],\n",
    "       [ ])\n",
    "\n",
    "x = np.linspace(-np.pi, np.pi, 500)\n",
    "plot(x, np.cos(x), \"k-\", linewidth = 2.5)\n",
    "plt.annotate(r\"$\\cos(\\phi)$\",xy=(np.pi,np.cos(np.pi)),xycoords='data',xytext=(11,-5),\n",
    "                  textcoords='offset points', fontsize=14)\n",
    "def trico(r):\n",
    "    if r > 1:\n",
    "        return \"< 1\"\n",
    "    elif r == 1:\n",
    "        return \"= 1\"\n",
    "    else:\n",
    "        return \"> 1\"\n",
    "    \n",
    "for gamma in [0.5, 1, 1.5]:\n",
    "    plot([-np.pi,np.pi],[gamma,gamma], \"k--\", linewidth = 1.5)    \n",
    "    plt.annotate(r\"$\\gamma$ \"+ trico(gamma),xy=(np.pi,gamma),xycoords='data',xytext=(11,-5),\n",
    "                  textcoords='offset points', fontsize=14)\n",
    "    if gamma == 1:\n",
    "        #plot([np.cos(1/gamma)],[gamma], 'ko')\n",
    "        plot([np.arccos(gamma)],[gamma], 'ko')\n",
    "    elif gamma < 1:\n",
    "        plot([-np.arccos(gamma)],[gamma], 'ko')\n",
    "        plot([np.arccos(gamma)],[gamma], 'ko')\n",
    "    else:\n",
    "        break\n",
    "    \n",
    "    \n",
    "\n",
    "xlabel('$\\gamma$', fontsize = 14, horizontalalignment='right', x=1.0)\n",
    "#ylabel('$\\cos(\\phi)$', fontsize = 14, horizontalalignment='right', y=1.0)\n",
    "for label in ax.get_xticklabels() + ax.get_yticklabels():\n",
    "    label.set_bbox(dict(facecolor='white', edgecolor='None', alpha=0.2 ))\n",
    "    label.set_fontsize(12)\n",
    "    \n",
    "\n",
    "plt.savefig(\"Cos_vs_gamma.png\",dpi=73)\n",
    "plt.show()"
   ]
  },
  {
   "cell_type": "code",
   "execution_count": 35,
   "metadata": {},
   "outputs": [
    {
     "name": "stdout",
     "output_type": "stream",
     "text": [
      "Hello, my name is Graham.\n"
     ]
    }
   ],
   "source": [
    "print('Hello, my name is %s.' % 'Graham')"
   ]
  },
  {
   "cell_type": "code",
   "execution_count": 42,
   "metadata": {},
   "outputs": [
    {
     "name": "stdout",
     "output_type": "stream",
     "text": [
      "'$\\gamma$'\n"
     ]
    }
   ],
   "source": [
    "print('$\\gamma$')"
   ]
  },
  {
   "cell_type": "code",
   "execution_count": null,
   "metadata": {},
   "outputs": [],
   "source": []
  }
 ],
 "metadata": {
  "kernelspec": {
   "display_name": "Python 3",
   "language": "python",
   "name": "python3"
  },
  "language_info": {
   "codemirror_mode": {
    "name": "ipython",
    "version": 3
   },
   "file_extension": ".py",
   "mimetype": "text/x-python",
   "name": "python",
   "nbconvert_exporter": "python",
   "pygments_lexer": "ipython3",
   "version": "3.7.6"
  }
 },
 "nbformat": 4,
 "nbformat_minor": 4
}
