{
 "cells": [
  {
   "cell_type": "code",
   "execution_count": 11,
   "metadata": {},
   "outputs": [
    {
     "data": {
      "image/png": "[encoded data removed]",
      "text/plain": [
       "<Figure size 640x400 with 1 Axes>"
      ]
     },
     "metadata": {
      "needs_background": "light"
     },
     "output_type": "display_data"
    }
   ],
   "source": [
    "import numpy as np\n",
    "import matplotlib.pyplot as plt\n",
    "\n",
    "# Create a new figure of size 8x5 points, using 80 dots per inch\n",
    "fig, ax = plt.subplots(figsize=(8,5), dpi=80)\n",
    "\n",
    "#Move axes at the center (where they should be...)\n",
    "ax.spines['right'].set_color('none')\n",
    "ax.spines['top'].set_color('none')\n",
    "ax.xaxis.set_ticks_position('bottom')\n",
    "ax.spines['bottom'].set_position(('data',0))\n",
    "ax.yaxis.set_ticks_position('left')\n",
    "ax.spines['left'].set_position(('data',0))\n",
    "\n",
    "#endpoint includes the last interval point, pi in this case\n",
    "X = np.linspace(-np.pi, np.pi, 256,endpoint=True)\n",
    "S = np.sin(X)\n",
    "\n",
    "#Adding a legend\n",
    "ax.plot(X, S, color=\"blue\", linewidth=2.5, linestyle=\"-\",  label=r'$sin(\\theta)$')\n",
    "\n",
    "#Getting a vale of gamma\n",
    "gamma = 0.55\n",
    "#Max and Min of the axes\n",
    "#Setting tick labels\n",
    "ax.set_xlim(X.min()*1.1, X.max()*1.1)\n",
    "plt.xticks([-np.pi, -np.pi/2, np.pi/2, np.pi],\n",
    "       [r'$-\\pi$', r'$-\\pi/2$', r'$+\\pi/2$', r'$+\\pi$'])\n",
    "ax.set_ylim(S.min()*1.1,S.max()*1.1)\n",
    "plt.yticks([1,gamma,-1],\n",
    "       [r'$1$',r'$\\gamma$',r'$-1$'])\n",
    "\n",
    "\n",
    "#Punto a evaluar\n",
    "t = gamma\n",
    "#Graficar la línea punteada\n",
    "ax.plot([t,t],[0,np.sin(t)],\n",
    "         color ='red',  linewidth=1.5, linestyle=\"--\")\n",
    "\n",
    "#Punto: tamaño del punto es 50\n",
    "#ax.scatter([t,],[np.sin(t),], 50,  color ='red')\n",
    "ax.plot([t],[np.sin(gamma)], 'ro')\n",
    "#Anotar la leyenda c/flecha\n",
    "#xy es la posicion (donde apuntara la flecha)\n",
    "#xytext indica dirección del texto \n",
    "#Lo divide en 4 cuadrantes imaginarios, donde el origen esta en xy\n",
    "#Depende de los signos, es el cuadrante7\n",
    "#Los numeros (+10,-30) indican el tamaño de la flecha y en que direccion crece\n",
    "ax.annotate(r'$\\theta^*_1$',\n",
    "             xy=(t, np.sin(t)),  xycoords='data',\n",
    "             xytext=(+10, -30), textcoords='offset points', fontsize=14,\n",
    "             arrowprops=dict(arrowstyle=\"->\", connectionstyle=\"arc3,rad=.2\"))\n",
    "\n",
    "\n",
    "#Lo mismo de arriba; pero para otro punto\n",
    "t = np.pi - gamma\n",
    "ax.plot([t,t],[0,np.sin(t)],\n",
    "         color ='red',  linewidth=1.5, linestyle=\"--\")\n",
    "ax.plot([t],[np.sin(gamma)], 'ro')\n",
    "#ax.scatter([t,],[np.sin(t),], 50,  color ='red')\n",
    "ax.annotate(r'$\\theta^*_2$',\n",
    "             xy=(t, np.sin(t)),  xycoords='data',\n",
    "             xytext=(+9, +27), textcoords='offset points', fontsize=14,\n",
    "             arrowprops=dict(arrowstyle=\"->\", connectionstyle=\"arc3,rad=.2\"))\n",
    "\n",
    "#Recta constante para unir los puntos \\theta_1,2\n",
    "ax.hlines(y=gamma, xmin=0, xmax=np.pi - gamma, linewidth=1.5, color='r', linestyle=\"--\")\n",
    "\n",
    "\n",
    "\n",
    "#Moving the add legend at the top \n",
    "ax.legend(loc='upper left', frameon=False)\n",
    "\n",
    "#Aumentar tamaño de las etiquetas de los ejes,\n",
    "#Lo ultimo es por si se llega a sobreponer la grafica, \n",
    "#para que ésta quede por detras\n",
    "for label in ax.get_xticklabels() + ax.get_yticklabels():\n",
    "    label.set_fontsize(13)\n",
    "    label.set_bbox(dict(facecolor='white', edgecolor='None', alpha=0.65 ))\n",
    "\n",
    "\n",
    "plt.show()\n"
   ]
  },
  {
   "cell_type": "code",
   "execution_count": null,
   "metadata": {},
   "outputs": [],
   "source": []
  },
  {
   "cell_type": "code",
   "execution_count": null,
   "metadata": {},
   "outputs": [],
   "source": []
  }
 ],
 "metadata": {
  "kernelspec": {
   "display_name": "Python 3",
   "language": "python",
   "name": "python3"
  },
  "language_info": {
   "codemirror_mode": {
    "name": "ipython",
    "version": 3
   },
   "file_extension": ".py",
   "mimetype": "text/x-python",
   "name": "python",
   "nbconvert_exporter": "python",
   "pygments_lexer": "ipython3",
   "version": "3.7.6"
  }
 },
 "nbformat": 4,
 "nbformat_minor": 4
}
