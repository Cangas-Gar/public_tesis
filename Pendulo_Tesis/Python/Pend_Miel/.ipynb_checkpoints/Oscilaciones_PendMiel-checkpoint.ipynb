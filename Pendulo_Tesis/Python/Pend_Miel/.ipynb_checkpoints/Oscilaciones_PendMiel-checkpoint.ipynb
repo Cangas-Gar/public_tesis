{
 "cells": [
  {
   "cell_type": "code",
   "execution_count": 1,
   "metadata": {},
   "outputs": [],
   "source": [
    "import numpy as np\n",
    "from scipy.integrate import odeint\n",
    "import matplotlib.pyplot as plt"
   ]
  },
  {
   "cell_type": "code",
   "execution_count": 2,
   "metadata": {},
   "outputs": [],
   "source": [
    "# function that returns dy/dt\n",
    "def pend_miel(x,t,gamma):\n",
    "    dxdt = gamma - np.sin(x)\n",
    "    return dxdt\n",
    "gamma = "
   ]
  },
  {
   "cell_type": "code",
   "execution_count": 3,
   "metadata": {},
   "outputs": [
    {
     "data": {
      "image/png": "[encoded data removed]",
      "text/plain": [
       "<Figure size 800x400 with 1 Axes>"
      ]
     },
     "metadata": {
      "needs_background": "light"
     },
     "output_type": "display_data"
    }
   ],
   "source": [
    "#Parametro\n",
    "gamma = 50\n",
    "#C.I.\n",
    "x0 = 0\n",
    "#Intervalo de tiempo\n",
    "t1 = np.linspace(0,50,500)\n",
    "#Solucion de EDO\n",
    "x1 = odeint(pend_miel,x0,t1,args=(gamma,))\n",
    "\n",
    "#Plotting\n",
    "fig, ax = plt.subplots(figsize=(10,5), dpi=80)\n",
    "ax.spines['right'].set_color('none')\n",
    "ax.spines['top'].set_color('none')\n",
    "ax.xaxis.set_ticks_position('bottom')\n",
    "ax.spines['bottom'].set_position(('data',0))\n",
    "ax.yaxis.set_ticks_position('left')\n",
    "ax.spines['left'].set_position(('data',0))\n",
    "\n",
    "ax.set_ylim()\n",
    "plt.yticks([gamma],\n",
    "       [gamma])\n",
    "ax.plot(t1,pend_miel(x1,t1,gamma),'k',linewidth=2, linestyle=\"-\", label='$\\gamma=50$')\n",
    "plt.xlabel('time')\n",
    "plt.ylabel('$\\dot{\\Theta}$')\n",
    "plt.ylim((0,120))\n",
    "plt.legend()\n",
    "\n",
    "fig.savefig(\"vel_vs_t_gamma_50_Pend_Miel.png\",dpi=72)\n",
    "plt.show()\n"
   ]
  },
  {
   "cell_type": "code",
   "execution_count": 4,
   "metadata": {
    "scrolled": true
   },
   "outputs": [
    {
     "data": {
      "image/png": "[encoded data removed]",
      "text/plain": [
       "<Figure size 800x400 with 1 Axes>"
      ]
     },
     "metadata": {
      "needs_background": "light"
     },
     "output_type": "display_data"
    }
   ],
   "source": [
    "#Parametro\n",
    "gamma = 50\n",
    "#C.I.\n",
    "x0 = 0\n",
    "#Intervalo de tiempo\n",
    "t1 = np.linspace(0,10,500)\n",
    "#Solucion de EDO\n",
    "x1 = odeint(pend_miel,x0,t1,args=(gamma,))\n",
    "\n",
    "#Plotting\n",
    "fig, ax = plt.subplots(figsize=(10,5), dpi=80)\n",
    "ax.spines['right'].set_color('none')\n",
    "ax.spines['top'].set_color('none')\n",
    "ax.xaxis.set_ticks_position('bottom')\n",
    "ax.spines['bottom'].set_position(('data',0))\n",
    "ax.yaxis.set_ticks_position('left')\n",
    "ax.spines['left'].set_position(('data',0))\n",
    "\n",
    "y_ticks = np.arange(0, 5, 1)\n",
    "plt.yticks(y_ticks)\n",
    "ax.yaxis.get_major_ticks()[0].label1.set_visible(False)\n",
    "\n",
    "ax.plot(t1,pend_miel(x1,t1,gamma),'k',linewidth=2, linestyle=\"-\", label='$\\gamma=2$')\n",
    "plt.xlabel('time')\n",
    "plt.ylabel('$\\dot{\\Theta}$')\n",
    "plt.ylim((0,4))\n",
    "plt.legend()\n",
    "\n",
    "fig.savefig(\"vel_vs_t_gamma_2_Pend_Miel.png\",dpi=72)\n",
    "plt.show()\n"
   ]
  },
  {
   "cell_type": "code",
   "execution_count": 5,
   "metadata": {},
   "outputs": [
    {
     "data": {
      "image/png": "[encoded data removed]",
      "text/plain": [
       "<Figure size 800x400 with 1 Axes>"
      ]
     },
     "metadata": {
      "needs_background": "light"
     },
     "output_type": "display_data"
    }
   ],
   "source": [
    "#Parametro\n",
    "gamma = 50\n",
    "#C.I.\n",
    "x0 = 0\n",
    "#Intervalo de tiempo\n",
    "t1 = np.linspace(0,35,500)\n",
    "#Solucion de EDO\n",
    "x1 = odeint(pend_miel,x0,t1,args=(gamma,))\n",
    "\n",
    "#Plotting\n",
    "fig, ax = plt.subplots(figsize=(10,5), dpi=80)\n",
    "ax.spines['right'].set_color('none')\n",
    "ax.spines['top'].set_color('none')\n",
    "ax.xaxis.set_ticks_position('bottom')\n",
    "ax.spines['bottom'].set_position(('data',0))\n",
    "ax.yaxis.set_ticks_position('left')\n",
    "ax.spines['left'].set_position(('data',0))\n",
    " \n",
    "y_ticks = np.arange(0, 5, 1)\n",
    "plt.yticks(y_ticks)\n",
    "ax.yaxis.get_major_ticks()[0].label1.set_visible(False)\n",
    "    \n",
    "ax.plot(t1,pend_miel(x1,t1,gamma),'k',linewidth=2, linestyle=\"-\", label='$\\gamma=1.1$')\n",
    "plt.xlabel('time')\n",
    "plt.ylabel('$\\dot{\\Theta}$')\n",
    "plt.ylim((0,3))\n",
    "plt.legend()\n",
    "\n",
    "fig.savefig(\"vel_vs_t_gamma_1.1_Pend_Miel.png\",dpi=72)\n",
    "plt.show()\n"
   ]
  },
  {
   "cell_type": "code",
   "execution_count": 6,
   "metadata": {},
   "outputs": [
    {
     "ename": "NameError",
     "evalue": "name 't4' is not defined",
     "output_type": "error",
     "traceback": [
      "\u001b[1;31m---------------------------------------------------------------------------\u001b[0m",
      "\u001b[1;31mNameError\u001b[0m                                 Traceback (most recent call last)",
      "\u001b[1;32m<ipython-input-6-aa692014c84a>\u001b[0m in \u001b[0;36m<module>\u001b[1;34m\u001b[0m\n\u001b[0;32m      6\u001b[0m \u001b[0mt1\u001b[0m \u001b[1;33m=\u001b[0m \u001b[0mnp\u001b[0m\u001b[1;33m.\u001b[0m\u001b[0mlinspace\u001b[0m\u001b[1;33m(\u001b[0m\u001b[1;36m0\u001b[0m\u001b[1;33m,\u001b[0m\u001b[1;36m12\u001b[0m\u001b[1;33m,\u001b[0m\u001b[1;36m500\u001b[0m\u001b[1;33m)\u001b[0m\u001b[1;33m\u001b[0m\u001b[1;33m\u001b[0m\u001b[0m\n\u001b[0;32m      7\u001b[0m \u001b[1;31m#Solucion de EDO\u001b[0m\u001b[1;33m\u001b[0m\u001b[1;33m\u001b[0m\u001b[1;33m\u001b[0m\u001b[0m\n\u001b[1;32m----> 8\u001b[1;33m \u001b[0mx1\u001b[0m \u001b[1;33m=\u001b[0m \u001b[0modeint\u001b[0m\u001b[1;33m(\u001b[0m\u001b[0mpend_miel\u001b[0m\u001b[1;33m,\u001b[0m\u001b[0mx0\u001b[0m\u001b[1;33m,\u001b[0m\u001b[0mt4\u001b[0m\u001b[1;33m,\u001b[0m\u001b[0margs\u001b[0m\u001b[1;33m=\u001b[0m\u001b[1;33m(\u001b[0m\u001b[0mgamma\u001b[0m\u001b[1;33m,\u001b[0m\u001b[1;33m)\u001b[0m\u001b[1;33m)\u001b[0m\u001b[1;33m\u001b[0m\u001b[1;33m\u001b[0m\u001b[0m\n\u001b[0m\u001b[0;32m      9\u001b[0m \u001b[1;33m\u001b[0m\u001b[0m\n\u001b[0;32m     10\u001b[0m \u001b[1;31m#Plotting\u001b[0m\u001b[1;33m\u001b[0m\u001b[1;33m\u001b[0m\u001b[1;33m\u001b[0m\u001b[0m\n",
      "\u001b[1;31mNameError\u001b[0m: name 't4' is not defined"
     ]
    }
   ],
   "source": [
    "#Parametro\n",
    "gamma = 50\n",
    "#C.I.\n",
    "x0 = 0\n",
    "#Intervalo de tiempo\n",
    "t1 = np.linspace(0,12,500)\n",
    "#Solucion de EDO\n",
    "x1 = odeint(pend_miel,x0,t4,args=(gamma,))\n",
    "\n",
    "#Plotting\n",
    "fig, ax = plt.subplots(figsize=(10,5), dpi=80)\n",
    "ax.spines['right'].set_color('none')\n",
    "ax.spines['top'].set_color('none')\n",
    "ax.xaxis.set_ticks_position('bottom')\n",
    "ax.spines['bottom'].set_position(('data',0))\n",
    "ax.yaxis.set_ticks_position('left')\n",
    "ax.spines['left'].set_position(('data',0))\n",
    " \n",
    "y_ticks = np.arange(0, 5, 1)\n",
    "plt.yticks(y_ticks)\n",
    "ax.yaxis.get_major_ticks()[0].label1.set_visible(False)\n",
    "    \n",
    "ax.plot(t1,pend_miel(x1,t1,gamma),'k',linewidth=2, linestyle=\"-\", label='$\\gamma=1$')\n",
    "plt.xlabel('time')\n",
    "plt.ylabel('$\\dot{\\Theta}$')\n",
    "plt.ylim((0,3))\n",
    "plt.legend()\n",
    "\n",
    "fig.savefig(\"vel_vs_t_gamma_1_Pend_Miel.png\",dpi=72)\n",
    "plt.show()\n"
   ]
  },
  {
   "cell_type": "code",
   "execution_count": null,
   "metadata": {},
   "outputs": [],
   "source": [
    "#Parametro\n",
    "gamma = 50\n",
    "#C.I.\n",
    "x0 = 0\n",
    "#Intervalo de tiempo\n",
    "t1 = np.linspace(0,25,500)\n",
    "#Solucion de EDO\n",
    "x1 = odeint(pend_miel,x0,t4,args=(gamma,))\n",
    "\n",
    "#Plotting\n",
    "fig, ax = plt.subplots(figsize=(10,5), dpi=80)\n",
    "ax.spines['right'].set_color('none')\n",
    "ax.spines['top'].set_color('none')\n",
    "ax.xaxis.set_ticks_position('bottom')\n",
    "ax.spines['bottom'].set_position(('data',0))\n",
    "ax.yaxis.set_ticks_position('left')\n",
    "ax.spines['left'].set_position(('data',0))\n",
    " \n",
    "y_ticks = np.arange(-1, 2, 1)\n",
    "plt.yticks(y_ticks)\n",
    "\n",
    "ax.xaxis.get_major_ticks()[0].label1.set_visible(False)\n",
    "    \n",
    "ax.plot(t1,pend_miel(x1,t1,gamma),'k',linewidth=2, linestyle=\"-\", label='$\\gamma=0.9$')\n",
    "plt.xlabel('time')\n",
    "plt.ylabel('$\\dot{\\Theta}$')\n",
    "plt.ylim((-1,1))\n",
    "plt.xlim((0,25))\n",
    "plt.legend()\n",
    "\n",
    "fig.savefig(\"vel_vs_t_gamma_0.9_Pend_Miel.png\",dpi=72)\n",
    "plt.show()"
   ]
  },
  {
   "cell_type": "code",
   "execution_count": null,
   "metadata": {},
   "outputs": [],
   "source": [
    "#Parametro\n",
    "gamma = 50\n",
    "#C.I.\n",
    "x0 = 0\n",
    "#Intervalo de tiempo\n",
    "t1 = np.linspace(0,0.25,500)\n",
    "#Solucion de EDO\n",
    "x1 = odeint(pend_miel,x0,t4,args=(gamma,))\n",
    "\n",
    "#Plotting\n",
    "fig, ax = plt.subplots(figsize=(10,5), dpi=80)\n",
    "ax.spines['right'].set_color('none')\n",
    "ax.spines['top'].set_color('none')\n",
    "ax.xaxis.set_ticks_position('bottom')\n",
    "ax.spines['bottom'].set_position(('data',0))\n",
    "ax.yaxis.set_ticks_position('left')\n",
    "ax.spines['left'].set_position(('data',0))\n",
    " \n",
    "y_ticks = np.arange(-1, 2, 1)\n",
    "plt.yticks(y_ticks)\n",
    "#ax.yaxis.get_major_ticks()[1].label1.set_visible(False)\n",
    "\n",
    "\n",
    "\n",
    "ax.xaxis.get_major_ticks()[0].label1.set_visible(False)\n",
    "\n",
    "ax.plot(t1,pend_miel(x1,t1,gamma),'k',linewidth=2, linestyle=\"-\", label='$\\gamma=0.1$')\n",
    "plt.xlabel('time')\n",
    "plt.ylabel('$\\dot{\\Theta}$')\n",
    "plt.xlim((0,0.25))\n",
    "plt.ylim((-1,1))\n",
    "plt.legend()\n",
    "\n",
    "fig.savefig(\"vel_vs_t_gamma_0.1_Pend_Miel.png\",dpi=72)\n",
    "plt.show()"
   ]
  },
  {
   "cell_type": "code",
   "execution_count": null,
   "metadata": {},
   "outputs": [],
   "source": []
  }
 ],
 "metadata": {
  "kernelspec": {
   "display_name": "Python 3",
   "language": "python",
   "name": "python3"
  },
  "language_info": {
   "codemirror_mode": {
    "name": "ipython",
    "version": 3
   },
   "file_extension": ".py",
   "mimetype": "text/x-python",
   "name": "python",
   "nbconvert_exporter": "python",
   "pygments_lexer": "ipython3",
   "version": "3.7.6"
  }
 },
 "nbformat": 4,
 "nbformat_minor": 4
}
